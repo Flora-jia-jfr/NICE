{
 "cells": [
  {
   "cell_type": "code",
   "execution_count": 2,
   "metadata": {},
   "outputs": [],
   "source": [
    "from sem import *\n",
    "from models import *\n",
    "import matplotlib.pyplot as plt\n",
    "import seaborn as sns\n",
    "import numpy as np\n",
    "import pandas as pd\n",
    "import "
   ]
  },
  {
   "cell_type": "code",
   "execution_count": 1,
   "metadata": {},
   "outputs": [
    {
     "ename": "NameError",
     "evalue": "name 'path' is not defined",
     "output_type": "error",
     "traceback": [
      "\u001b[0;31m---------------------------------------------------------------------------\u001b[0m",
      "\u001b[0;31mNameError\u001b[0m                                 Traceback (most recent call last)",
      "\u001b[0;32m<ipython-input-1-39e8c5e23990>\u001b[0m in \u001b[0;36m<module>\u001b[0;34m\u001b[0m\n\u001b[0;32m----> 1\u001b[0;31m \u001b[0mprint\u001b[0m\u001b[0;34m(\u001b[0m\u001b[0mpath\u001b[0m\u001b[0;34m)\u001b[0m\u001b[0;34m\u001b[0m\u001b[0;34m\u001b[0m\u001b[0m\n\u001b[0m",
      "\u001b[0;31mNameError\u001b[0m: name 'path' is not defined"
     ]
    }
   ],
   "source": [
    "print(path)"
   ]
  },
  {
   "cell_type": "code",
   "execution_count": 2,
   "metadata": {},
   "outputs": [],
   "source": [
    "dim = 10\n",
    "n = 1000\n",
    "env = 3\n",
    "np.set_printoptions(suppress=True)"
   ]
  },
  {
   "cell_type": "code",
   "execution_count": 3,
   "metadata": {},
   "outputs": [],
   "source": [
    "def make_env(sem, n):\n",
    "    environments = [sem(n, .2),\n",
    "                  sem(n, 2),\n",
    "                sem(n, 5)]\n",
    "    return environments"
   ]
  },
  {
   "cell_type": "code",
   "execution_count": 4,
   "metadata": {},
   "outputs": [],
   "source": [
    "def run_methods(environments, sem, scram=True):\n",
    "    att = dim/2 \n",
    "    ls2 = LS2(environments, {})\n",
    "    irm = IRM(environments, {})\n",
    "    naive= naive_estimater(environments, {})\n",
    "    icp = ICP(environments, {})\n",
    "    \n",
    "    e1= abs(ls2.att() - att).item()\n",
    "    e2= abs(irm.att() - att).item()\n",
    "    e3 = abs(naive.ate() - att).item()\n",
    "    e4 = abs(icp.att() - att).item()\n",
    "    return e1, e2, e3, e4\n",
    "    "
   ]
  },
  {
   "cell_type": "code",
   "execution_count": 5,
   "metadata": {},
   "outputs": [],
   "source": [
    "def calculate_err(setup, s, h,ls={}):\n",
    "    err1, err2, err3, err4 = [], [], [],[]\n",
    "    for i in range(10):\n",
    "        sem = ChainEquationModel(dim, scramble=s,  hetero=h)\n",
    "        sem.setup = setup\n",
    "        envs = make_env(sem, n) \n",
    "        e1, e2, e3,e4= run_methods(envs, sem)\n",
    "        err1.append(e1)\n",
    "        err2.append(e2)\n",
    "        err3.append(e3)\n",
    "        err4.append(e4)\n",
    "    print(\"*************************\")\n",
    "    print(\"setting: {}, scramble: {}, hetero: {},\".format(setup, s, h))\n",
    "    print(\"erm err: {}, irm err: {}, naive err: {}, icp err:{}\".format(\n",
    "        np.mean(err1),np.mean(err2), np.mean(err3), np.mean(err4)))\n",
    "    print(\"erm std: {}, irm std: {}, naive std: {}\".format(np.std(err1),np.std(err2), np.std(err3), np.std(err4)))\n",
    "    \n",
    "    ls['ls2']= [np.mean(err1), np.std(err1)]\n",
    "    ls['irm']= [np.mean(err2), np.std(err2)]\n",
    "    ls['naive']= [np.mean(err3),  np.std(err3)] \n",
    "\n",
    "    ls['icp']=[np.mean(err4),np.std(err4)]\n",
    "\n",
    "\n",
    "    return err1, err2, err3, err4\n",
    "    "
   ]
  },
  {
   "cell_type": "code",
   "execution_count": 1,
   "metadata": {
    "scrolled": true
   },
   "outputs": [],
   "source": [
    "path = './res/'\n",
    "for setup in ['dag','des', 'collider']:\n",
    "    for s in [True, False]:\n",
    "        for h in [True, False]:\n",
    "            p = path +'{}_scramble_{}_hetero_{}'.format(setup, s, h)\n",
    "            err = calculate_err(setup, s, h)\n",
    "            df = pd.DataFrame(err)\n",
    "            df.to_csv(p,  sep=',',index=False)"
   ]
  },
  {
   "cell_type": "code",
   "execution_count": 8,
   "metadata": {},
   "outputs": [],
   "source": [
    "res = pd.read_csv(\"./res/collider_scramble_False_hetero_False\")"
   ]
  },
  {
   "cell_type": "code",
   "execution_count": 12,
   "metadata": {},
   "outputs": [
    {
     "data": {
      "text/html": [
       "<div>\n",
       "<style scoped>\n",
       "    .dataframe tbody tr th:only-of-type {\n",
       "        vertical-align: middle;\n",
       "    }\n",
       "\n",
       "    .dataframe tbody tr th {\n",
       "        vertical-align: top;\n",
       "    }\n",
       "\n",
       "    .dataframe thead th {\n",
       "        text-align: right;\n",
       "    }\n",
       "</style>\n",
       "<table border=\"1\" class=\"dataframe\">\n",
       "  <thead>\n",
       "    <tr style=\"text-align: right;\">\n",
       "      <th></th>\n",
       "      <th>ls2</th>\n",
       "      <th>irm</th>\n",
       "      <th>naive</th>\n",
       "      <th>icp</th>\n",
       "    </tr>\n",
       "  </thead>\n",
       "  <tbody>\n",
       "    <tr>\n",
       "      <th>0</th>\n",
       "      <td>0.930454</td>\n",
       "      <td>0.609797</td>\n",
       "      <td>2.610693</td>\n",
       "      <td>3.103512</td>\n",
       "    </tr>\n",
       "    <tr>\n",
       "      <th>1</th>\n",
       "      <td>0.601039</td>\n",
       "      <td>0.366277</td>\n",
       "      <td>0.264934</td>\n",
       "      <td>2.325224</td>\n",
       "    </tr>\n",
       "  </tbody>\n",
       "</table>\n",
       "</div>"
      ],
      "text/plain": [
       "        ls2       irm     naive       icp\n",
       "0  0.930454  0.609797  2.610693  3.103512\n",
       "1  0.601039  0.366277  0.264934  2.325224"
      ]
     },
     "execution_count": 12,
     "metadata": {},
     "output_type": "execute_result"
    }
   ],
   "source": [
    "res"
   ]
  },
  {
   "cell_type": "code",
   "execution_count": 39,
   "metadata": {},
   "outputs": [],
   "source": [
    "#plotting \n",
    "def make_plots( s, h):\n",
    "    barWidth = 0.2\n",
    "    # set height of bar\n",
    "    bar1, bar2,bar3, bar4 = [],[],[],[]\n",
    "    std1, std2,std3, std4 = [],[],[],[]\n",
    "    for setup in ['dag','des', 'collider']:\n",
    "        res =  pd.read_csv(\"./res/{}_scramble_{}_hetero_{}\".format(setup, s, h))\n",
    "        bar1.append(res['ls2'][0])\n",
    "        bar2.append(res['irm'][0])\n",
    "        bar3.append(res['naive'][0])\n",
    "        bar4.append(res['icp'][0])\n",
    "        \n",
    "        std1.append(res['ls2'][1]/3.3)\n",
    "        std2.append(res['irm'][1]/3.3)\n",
    "        std3.append(res['naive'][1]/3.3)\n",
    "        std4.append(res['icp'][1]/3.3)\n",
    "        \n",
    "    # Set position of bar on X axis\n",
    "    r1 = np.arange(len(bar1))\n",
    "    r2 = [x + barWidth for x in r1]\n",
    "    r3 = [x + barWidth for x in r2]\n",
    "    r4 = [x + barWidth for x in r3]\n",
    "    sns.set(style=\"white\")\n",
    "    sns.set_palette('Set2')\n",
    "    sns.set_context('paper')\n",
    "    # Make the plot\n",
    "    plt.bar(r1, bar2,  width=barWidth, edgecolor='white',yerr=std2, label='NICE')\n",
    "    plt.bar(r2, bar1,  width=barWidth, edgecolor='white', yerr=std1, label='OLS-2')\n",
    "    plt.bar(r3, bar3,  width=barWidth, edgecolor='white',yerr=std3, label='Unadjusted')\n",
    "    plt.bar(r4, bar4, width=barWidth, edgecolor='white', yerr=std4,label='ICP')\n",
    "\n",
    "    # Add xticks on the middle of the group bars\n",
    "    # plt.xlabel('data generating processes')\n",
    "    plt.xlim(-0.4, 2.9)\n",
    "    plt.ylim(0, np.max(bar4)+np.max(std4))\n",
    "    plt.ylabel('MAE and standard error',fontsize='large')\n",
    "    plt.xticks([r + barWidth for r in range(len(bar1))], ['Noise', 'Descendant', 'Collider'],fontsize='large')\n",
    "\n",
    "    # Create legend & Show graphic\n",
    "    plt.legend(loc='upper left', fontsize='large',frameon=False)\n",
    "    plt.tight_layout()\n",
    "    # plt.show()\n",
    "\n",
    "    plt.savefig('fig/scramble-{}-hetero-{}'.format(s, h),dpi=300, forma='pdf')"
   ]
  },
  {
   "cell_type": "code",
   "execution_count": 40,
   "metadata": {},
   "outputs": [
    {
     "name": "stderr",
     "output_type": "stream",
     "text": [
      "<ipython-input-39-d04d736cb745>:45: MatplotlibDeprecationWarning: savefig() got unexpected keyword argument \"forma\" which is no longer supported as of 3.3 and will become an error two minor releases later\n",
      "  plt.savefig('fig/scramble-{}-hetero-{}'.format(s, h),dpi=300, forma='pdf')\n"
     ]
    },
    {
     "data": {
      "image/png": "[encoded data removed]",
      "text/plain": [
       "<Figure size 432x288 with 1 Axes>"
      ]
     },
     "metadata": {},
     "output_type": "display_data"
    }
   ],
   "source": [
    "make_plots(True, True)"
   ]
  },
  {
   "cell_type": "code",
   "execution_count": 41,
   "metadata": {},
   "outputs": [
    {
     "name": "stderr",
     "output_type": "stream",
     "text": [
      "<ipython-input-39-d04d736cb745>:45: MatplotlibDeprecationWarning: savefig() got unexpected keyword argument \"forma\" which is no longer supported as of 3.3 and will become an error two minor releases later\n",
      "  plt.savefig('fig/scramble-{}-hetero-{}'.format(s, h),dpi=300, forma='pdf')\n"
     ]
    },
    {
     "data": {
      "image/png": "[encoded data removed]",
      "text/plain": [
       "<Figure size 432x288 with 1 Axes>"
      ]
     },
     "metadata": {},
     "output_type": "display_data"
    }
   ],
   "source": [
    "make_plots(True, False)"
   ]
  },
  {
   "cell_type": "code",
   "execution_count": 42,
   "metadata": {},
   "outputs": [
    {
     "name": "stderr",
     "output_type": "stream",
     "text": [
      "<ipython-input-39-d04d736cb745>:45: MatplotlibDeprecationWarning: savefig() got unexpected keyword argument \"forma\" which is no longer supported as of 3.3 and will become an error two minor releases later\n",
      "  plt.savefig('fig/scramble-{}-hetero-{}'.format(s, h),dpi=300, forma='pdf')\n"
     ]
    },
    {
     "data": {
      "image/png": "[encoded data removed]",
      "text/plain": [
       "<Figure size 432x288 with 1 Axes>"
      ]
     },
     "metadata": {},
     "output_type": "display_data"
    }
   ],
   "source": [
    "make_plots(False, False)"
   ]
  },
  {
   "cell_type": "code",
   "execution_count": 43,
   "metadata": {},
   "outputs": [
    {
     "name": "stderr",
     "output_type": "stream",
     "text": [
      "<ipython-input-39-d04d736cb745>:45: MatplotlibDeprecationWarning: savefig() got unexpected keyword argument \"forma\" which is no longer supported as of 3.3 and will become an error two minor releases later\n",
      "  plt.savefig('fig/scramble-{}-hetero-{}'.format(s, h),dpi=300, forma='pdf')\n"
     ]
    },
    {
     "data": {
      "image/png": "[encoded data removed]",
      "text/plain": [
       "<Figure size 432x288 with 1 Axes>"
      ]
     },
     "metadata": {},
     "output_type": "display_data"
    }
   ],
   "source": [
    "make_plots(False, True)"
   ]
  },
  {
   "cell_type": "code",
   "execution_count": null,
   "metadata": {},
   "outputs": [],
   "source": []
  }
 ],
 "metadata": {
  "kernelspec": {
   "display_name": "Python 3",
   "language": "python",
   "name": "python3"
  },
  "language_info": {
   "codemirror_mode": {
    "name": "ipython",
    "version": 3
   },
   "file_extension": ".py",
   "mimetype": "text/x-python",
   "name": "python",
   "nbconvert_exporter": "python",
   "pygments_lexer": "ipython3",
   "version": "3.7.7"
  }
 },
 "nbformat": 4,
 "nbformat_minor": 2
}
