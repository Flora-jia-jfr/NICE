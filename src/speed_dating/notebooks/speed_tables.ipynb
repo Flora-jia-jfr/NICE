{
 "cells": [
  {
   "cell_type": "code",
   "execution_count": 1,
   "metadata": {},
   "outputs": [],
   "source": [
    "import numpy as np\n",
    "import torch\n",
    "import pandas as pd\n",
    "pd.options.display.float_format = '{:.2f}'.format\n",
    "np.set_printoptions(formatter={'float_kind':'{:.4f}'.format})"
   ]
  },
  {
   "cell_type": "code",
   "execution_count": 2,
   "metadata": {},
   "outputs": [],
   "source": [
    "def transform(df, v):\n",
    "    if len(df[v].shape) >3:\n",
    "        df_v = df[v].squeeze(0)\n",
    "    else:\n",
    "        df_v = df[v]\n",
    "    return np.concatenate([df_v[0],df_v[1],df_v[2]])"
   ]
  },
  {
   "cell_type": "code",
   "execution_count": 3,
   "metadata": {},
   "outputs": [],
   "source": [
    "def att_err(pred, sample, t):\n",
    "    return abs(pred[t==1].mean() - sample[t==1].mean())"
   ]
  },
  {
   "cell_type": "code",
   "execution_count": 4,
   "metadata": {},
   "outputs": [],
   "source": [
    "def pehe(pred, true, t):\n",
    "    return np.square(pred[t==1] - true[t==1]).mean()"
   ]
  },
  {
   "cell_type": "code",
   "execution_count": 5,
   "metadata": {},
   "outputs": [],
   "source": [
    "def small(x):\n",
    "    return float(\"{:.2f}\".format(x))"
   ]
  },
  {
   "cell_type": "code",
   "execution_count": 6,
   "metadata": {},
   "outputs": [],
   "source": [
    "directory = '/Users/claudiashi/result/nice_paper/paper_result/'"
   ]
  },
  {
   "cell_type": "code",
   "execution_count": 7,
   "metadata": {},
   "outputs": [],
   "source": [
    "def get_att(mod, version, collider, method, all_train='all_train'):\n",
    "    path = directory+'{}/{}/{}/{}/{}/'.format(method,collider,all_train,mod, version)\n",
    "    err = {'erm': 0, 'irm':0 }\n",
    "    for model in ['erm','irm']:\n",
    "        loss = []\n",
    "        for copy in range(1, 11):\n",
    "\n",
    "            ite_df = np.load(path + \"{}_ite_output_{}.npz\".format(model, str(copy)))\n",
    "            all_t = transform(ite_df, 'T')\n",
    "            pred_ite = transform(ite_df, 'pred_ite')\n",
    "            sample_ite = transform(ite_df, 'sample_ite')\n",
    "            att_e = att_err(pred_ite, sample_ite, all_t)\n",
    "            \n",
    "            loss.append(att_e)\n",
    "        err[model] = [small(np.mean(loss)), small(np.std(loss))]\n",
    "    print(\"{}-{}-{}-{}-att mae is: \".format(mod, version, collider, method), err)\n",
    "    return err"
   ]
  },
  {
   "cell_type": "code",
   "execution_count": 8,
   "metadata": {},
   "outputs": [],
   "source": [
    "def get_pehe(mod, version, collider,method):\n",
    "    path = directory+'{}/{}/{}/{}/{}/'.format(method,collider,  'train_test',mod, version)\n",
    "    err = {'erm': 0, 'irm':0 }\n",
    "    for model in ['erm','irm']:\n",
    "        loss= []\n",
    "        for copy in range(1, 11):\n",
    "            ite_df = np.load(path + \"{}_ite_output_{}.npz\".format(model, str(copy)))\n",
    "            test_t = ite_df['T'][2]\n",
    "            test_pred_ite = ite_df['pred_ite'][0][2]\n",
    "            test_sample_ite = ite_df['sample_ite'][0][2]\n",
    "            pehe_e = pehe(test_pred_ite, test_sample_ite, test_t)\n",
    "            loss.append(pehe_e)\n",
    "            err[model] = (small(np.mean(loss)), small(np.std(loss)))\n",
    "    print(\"{}-{}-{}-{}-out of sample pehe is: \".format(mod, version, collider, method), err)\n",
    "\n",
    "\n",
    "            \n",
    "        "
   ]
  },
  {
   "cell_type": "code",
   "execution_count": 9,
   "metadata": {
    "scrolled": true
   },
   "outputs": [
    {
     "name": "stdout",
     "output_type": "stream",
     "text": [
      "Mod1-low-collider-tarnet-att mae is:  {'erm': [0.31, 0.11], 'irm': [0.1, 0.03]}\n",
      "Mod1-low-no_collider-tarnet-att mae is:  {'erm': [0.08, 0.06], 'irm': [0.05, 0.05]}\n",
      "Mod1-med-collider-tarnet-att mae is:  {'erm': [0.37, 0.12], 'irm': [0.09, 0.03]}\n",
      "Mod1-med-no_collider-tarnet-att mae is:  {'erm': [0.04, 0.02], 'irm': [0.02, 0.02]}\n",
      "Mod1-high-collider-tarnet-att mae is:  {'erm': [0.28, 0.09], 'irm': [0.09, 0.06]}\n",
      "Mod1-high-no_collider-tarnet-att mae is:  {'erm': [0.06, 0.05], 'irm': [0.01, 0.01]}\n",
      "Mod2-low-collider-tarnet-att mae is:  {'erm': [0.36, 0.1], 'irm': [0.1, 0.07]}\n",
      "Mod2-low-no_collider-tarnet-att mae is:  {'erm': [0.07, 0.1], 'irm': [0.02, 0.02]}\n",
      "Mod2-med-collider-tarnet-att mae is:  {'erm': [0.33, 0.15], 'irm': [0.13, 0.03]}\n",
      "Mod2-med-no_collider-tarnet-att mae is:  {'erm': [0.16, 0.17], 'irm': [0.03, 0.03]}\n",
      "Mod2-high-collider-tarnet-att mae is:  {'erm': [0.32, 0.17], 'irm': [0.11, 0.04]}\n",
      "Mod2-high-no_collider-tarnet-att mae is:  {'erm': [0.1, 0.12], 'irm': [0.03, 0.03]}\n",
      "Mod3-low-collider-tarnet-att mae is:  {'erm': [0.34, 0.05], 'irm': [0.11, 0.04]}\n",
      "Mod3-low-no_collider-tarnet-att mae is:  {'erm': [0.08, 0.08], 'irm': [0.06, 0.03]}\n",
      "Mod3-med-collider-tarnet-att mae is:  {'erm': [0.39, 0.11], 'irm': [0.09, 0.02]}\n",
      "Mod3-med-no_collider-tarnet-att mae is:  {'erm': [0.11, 0.08], 'irm': [0.03, 0.03]}\n",
      "Mod3-high-collider-tarnet-att mae is:  {'erm': [0.33, 0.14], 'irm': [0.08, 0.04]}\n",
      "Mod3-high-no_collider-tarnet-att mae is:  {'erm': [0.03, 0.02], 'irm': [0.02, 0.01]}\n",
      "Mod4-low-collider-tarnet-att mae is:  {'erm': [0.44, 0.07], 'irm': [0.14, 0.08]}\n",
      "Mod4-low-no_collider-tarnet-att mae is:  {'erm': [0.01, 0.01], 'irm': [0.03, 0.05]}\n",
      "Mod4-med-collider-tarnet-att mae is:  {'erm': [0.25, 0.08], 'irm': [0.05, 0.03]}\n",
      "Mod4-med-no_collider-tarnet-att mae is:  {'erm': [0.12, 0.09], 'irm': [0.02, 0.02]}\n",
      "Mod4-high-collider-tarnet-att mae is:  {'erm': [0.33, 0.18], 'irm': [0.14, 0.07]}\n",
      "Mod4-high-no_collider-tarnet-att mae is:  {'erm': [0.03, 0.03], 'irm': [0.05, 0.06]}\n"
     ]
    }
   ],
   "source": [
    "att_res = {}\n",
    "for mod in ['Mod1', 'Mod2', 'Mod3','Mod4']:\n",
    "    att_res[mod] = {}\n",
    "    for v in ['low','med','high']:\n",
    "        att_res[mod][v]={}\n",
    "        for c in ['collider','no_collider']:\n",
    "            att_res[mod][v][c]={}\n",
    "            for m in ['tarnet']:\n",
    "                att_res[mod][v][c][m]=get_att(mod, v, c, method=m, all_train='all_train')\n",
    "\n"
   ]
  },
  {
   "cell_type": "code",
   "execution_count": 10,
   "metadata": {
    "scrolled": true
   },
   "outputs": [
    {
     "name": "stdout",
     "output_type": "stream",
     "text": [
      "Mod1-low-collider-dragon-out of sample pehe is:  {'erm': (0.25, 0.06), 'irm': (0.09, 0.01)}\n",
      "Mod1-low-collider-tarnet-out of sample pehe is:  {'erm': (0.18, 0.05), 'irm': (0.08, 0.02)}\n",
      "Mod1-low-no_collider-dragon-out of sample pehe is:  {'erm': (0.21, 0.07), 'irm': (0.06, 0.02)}\n",
      "Mod1-low-no_collider-tarnet-out of sample pehe is:  {'erm': (0.15, 0.03), 'irm': (0.07, 0.02)}\n",
      "Mod1-high-collider-dragon-out of sample pehe is:  {'erm': (0.34, 0.14), 'irm': (0.09, 0.03)}\n",
      "Mod1-high-collider-tarnet-out of sample pehe is:  {'erm': (0.24, 0.06), 'irm': (0.06, 0.02)}\n",
      "Mod1-high-no_collider-dragon-out of sample pehe is:  {'erm': (0.14, 0.04), 'irm': (0.06, 0.01)}\n",
      "Mod1-high-no_collider-tarnet-out of sample pehe is:  {'erm': (0.14, 0.06), 'irm': (0.05, 0.01)}\n",
      "Mod1-med-collider-dragon-out of sample pehe is:  {'erm': (0.4, 0.08), 'irm': (0.07, 0.01)}\n",
      "Mod1-med-collider-tarnet-out of sample pehe is:  {'erm': (0.41, 0.08), 'irm': (0.09, 0.02)}\n",
      "Mod1-med-no_collider-dragon-out of sample pehe is:  {'erm': (0.15, 0.03), 'irm': (0.04, 0.01)}\n",
      "Mod1-med-no_collider-tarnet-out of sample pehe is:  {'erm': (0.14, 0.04), 'irm': (0.06, 0.02)}\n",
      "Mod2-low-collider-dragon-out of sample pehe is:  {'erm': (0.49, 0.05), 'irm': (0.09, 0.03)}\n",
      "Mod2-low-collider-tarnet-out of sample pehe is:  {'erm': (0.42, 0.03), 'irm': (0.07, 0.01)}\n",
      "Mod2-low-no_collider-dragon-out of sample pehe is:  {'erm': (0.13, 0.06), 'irm': (0.06, 0.04)}\n",
      "Mod2-low-no_collider-tarnet-out of sample pehe is:  {'erm': (0.14, 0.06), 'irm': (0.08, 0.08)}\n",
      "Mod2-high-collider-dragon-out of sample pehe is:  {'erm': (0.36, 0.03), 'irm': (0.13, 0.04)}\n",
      "Mod2-high-collider-tarnet-out of sample pehe is:  {'erm': (0.26, 0.1), 'irm': (0.09, 0.02)}\n",
      "Mod2-high-no_collider-dragon-out of sample pehe is:  {'erm': (0.14, 0.05), 'irm': (0.06, 0.02)}\n",
      "Mod2-high-no_collider-tarnet-out of sample pehe is:  {'erm': (0.14, 0.08), 'irm': (0.07, 0.01)}\n",
      "Mod2-med-collider-dragon-out of sample pehe is:  {'erm': (0.32, 0.04), 'irm': (0.1, 0.05)}\n",
      "Mod2-med-collider-tarnet-out of sample pehe is:  {'erm': (0.28, 0.08), 'irm': (0.08, 0.02)}\n",
      "Mod2-med-no_collider-dragon-out of sample pehe is:  {'erm': (0.13, 0.03), 'irm': (0.04, 0.01)}\n",
      "Mod2-med-no_collider-tarnet-out of sample pehe is:  {'erm': (0.13, 0.03), 'irm': (0.06, 0.01)}\n",
      "Mod3-low-collider-dragon-out of sample pehe is:  {'erm': (0.29, 0.06), 'irm': (0.09, 0.03)}\n",
      "Mod3-low-collider-tarnet-out of sample pehe is:  {'erm': (0.25, 0.04), 'irm': (0.08, 0.02)}\n",
      "Mod3-low-no_collider-dragon-out of sample pehe is:  {'erm': (0.25, 0.04), 'irm': (0.08, 0.02)}\n",
      "Mod3-low-no_collider-tarnet-out of sample pehe is:  {'erm': (0.21, 0.02), 'irm': (0.09, 0.02)}\n",
      "Mod3-high-collider-dragon-out of sample pehe is:  {'erm': (0.37, 0.08), 'irm': (0.07, 0.01)}\n",
      "Mod3-high-collider-tarnet-out of sample pehe is:  {'erm': (0.28, 0.08), 'irm': (0.07, 0.02)}\n",
      "Mod3-high-no_collider-dragon-out of sample pehe is:  {'erm': (0.15, 0.04), 'irm': (0.05, 0.01)}\n",
      "Mod3-high-no_collider-tarnet-out of sample pehe is:  {'erm': (0.13, 0.03), 'irm': (0.06, 0.01)}\n",
      "Mod3-med-collider-dragon-out of sample pehe is:  {'erm': (0.47, 0.11), 'irm': (0.08, 0.03)}\n",
      "Mod3-med-collider-tarnet-out of sample pehe is:  {'erm': (0.35, 0.06), 'irm': (0.07, 0.02)}\n",
      "Mod3-med-no_collider-dragon-out of sample pehe is:  {'erm': (0.22, 0.15), 'irm': (0.08, 0.02)}\n",
      "Mod3-med-no_collider-tarnet-out of sample pehe is:  {'erm': (0.11, 0.05), 'irm': (0.08, 0.05)}\n",
      "Mod4-low-collider-dragon-out of sample pehe is:  {'erm': (0.45, 0.06), 'irm': (0.09, 0.04)}\n",
      "Mod4-low-collider-tarnet-out of sample pehe is:  {'erm': (0.36, 0.12), 'irm': (0.08, 0.03)}\n",
      "Mod4-low-no_collider-dragon-out of sample pehe is:  {'erm': (0.05, 0.02), 'irm': (0.05, 0.02)}\n",
      "Mod4-low-no_collider-tarnet-out of sample pehe is:  {'erm': (0.04, 0.01), 'irm': (0.07, 0.12)}\n",
      "Mod4-high-collider-dragon-out of sample pehe is:  {'erm': (0.28, 0.07), 'irm': (0.12, 0.05)}\n",
      "Mod4-high-collider-tarnet-out of sample pehe is:  {'erm': (0.25, 0.1), 'irm': (0.1, 0.05)}\n",
      "Mod4-high-no_collider-dragon-out of sample pehe is:  {'erm': (0.09, 0.08), 'irm': (0.05, 0.06)}\n",
      "Mod4-high-no_collider-tarnet-out of sample pehe is:  {'erm': (0.08, 0.1), 'irm': (0.07, 0.08)}\n",
      "Mod4-med-collider-dragon-out of sample pehe is:  {'erm': (0.25, 0.06), 'irm': (0.07, 0.01)}\n",
      "Mod4-med-collider-tarnet-out of sample pehe is:  {'erm': (0.21, 0.03), 'irm': (0.09, 0.01)}\n",
      "Mod4-med-no_collider-dragon-out of sample pehe is:  {'erm': (0.07, 0.02), 'irm': (0.07, 0.04)}\n",
      "Mod4-med-no_collider-tarnet-out of sample pehe is:  {'erm': (0.09, 0.06), 'irm': (0.07, 0.02)}\n"
     ]
    }
   ],
   "source": [
    "pehe_res = {}\n",
    "for mod in ['Mod1', 'Mod2', 'Mod3','Mod4']:\n",
    "    pehe_res[mod] = {}\n",
    "    for v in ['low','high','med']:\n",
    "        pehe_res[mod][v]={}\n",
    "        for c in ['collider', 'no_collider']:\n",
    "            pehe_res[mod][v][c]={}\n",
    "            for m in ['dragon','tarnet']:\n",
    "                pehe_res[mod][v][c][m]=get_pehe(mod, v, c,m)\n",
    "df1 = pd.DataFrame(pehe_res)\n"
   ]
  },
  {
   "cell_type": "code",
   "execution_count": null,
   "metadata": {},
   "outputs": [],
   "source": []
  }
 ],
 "metadata": {
  "kernelspec": {
   "display_name": "Python 3",
   "language": "python",
   "name": "python3"
  },
  "language_info": {
   "codemirror_mode": {
    "name": "ipython",
    "version": 3
   },
   "file_extension": ".py",
   "mimetype": "text/x-python",
   "name": "python",
   "nbconvert_exporter": "python",
   "pygments_lexer": "ipython3",
   "version": "3.7.7"
  }
 },
 "nbformat": 4,
 "nbformat_minor": 2
}
